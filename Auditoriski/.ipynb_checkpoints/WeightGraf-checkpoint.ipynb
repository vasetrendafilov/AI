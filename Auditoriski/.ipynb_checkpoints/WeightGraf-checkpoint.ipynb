{
 "cells": [
  {
   "cell_type": "code",
   "execution_count": 2,
   "metadata": {},
   "outputs": [],
   "source": [
    "g = WeightedGraph()\n",
    "g.add_vertex('A')\n",
    "g.add_vertex('B')\n",
    "g.add_vertex('C')\n",
    "g.add_vertex('D')\n",
    "g.add_vertex('E')\n",
    "g.add_vertex('F')\n",
    "g.add_edge(('A', 'B', 2))\n",
    "g.add_edge(('A', 'C', 4))\n",
    "g.add_edge(('A', 'E', 5))\n",
    "g.add_edge(('B', 'E', 1))\n",
    "g.add_edge(('E', 'D', 3))\n",
    "g.add_edge(('E', 'F', 2))\n",
    "g.add_edge(('F', 'D', 1))\n",
    "g.add_edge(('C', 'D', 3))"
   ]
  },
  {
   "cell_type": "code",
   "execution_count": 3,
   "metadata": {},
   "outputs": [],
   "source": [
    "from Resources.Scripts.graph import WeightedGraph"
   ]
  },
  {
   "cell_type": "code",
   "execution_count": 4,
   "metadata": {},
   "outputs": [
    {
     "name": "stdout",
     "output_type": "stream",
     "text": [
      "Ред за разгранување:\n",
      "(0, ['A']) \n",
      "\n",
      "Го разгрануваме јазолот A од (0, ['A'])\n",
      "B со тежина 2, кој е соседен јазол на A, го додаваме во редот за разгранување со нова цена и го означуваме како разгранет\n",
      "C со тежина 4, кој е соседен јазол на A, го додаваме во редот за разгранување со нова цена и го означуваме како разгранет\n",
      "E со тежина 5, кој е соседен јазол на A, го додаваме во редот за разгранување со нова цена и го означуваме како разгранет\n",
      "\n",
      "Ред за разгранување:\n",
      "(2, ['A', 'B']) (4, ['A', 'C']) (5, ['A', 'E']) \n",
      "\n",
      "Го разгрануваме јазолот B од (2, ['A', 'B'])\n",
      "A е веќе разгранет\n",
      "E со тежина 1, кој е соседен јазол на B, го додаваме во редот за разгранување со нова цена и го означуваме како разгранет\n",
      "\n",
      "Ред за разгранување:\n",
      "(3, ['A', 'B', 'E']) (5, ['A', 'E']) (4, ['A', 'C']) \n",
      "\n",
      "Го разгрануваме јазолот E од (3, ['A', 'B', 'E'])\n",
      "A е веќе разгранет\n",
      "B е веќе разгранет\n",
      "D со тежина 3, кој е соседен јазол на E, го додаваме во редот за разгранување со нова цена и го означуваме како разгранет\n",
      "F со тежина 2, кој е соседен јазол на E, го додаваме во редот за разгранување со нова цена и го означуваме како разгранет\n",
      "\n",
      "Ред за разгранување:\n",
      "(4, ['A', 'C']) (5, ['A', 'B', 'E', 'F']) (6, ['A', 'B', 'E', 'D']) (5, ['A', 'E']) \n",
      "\n",
      "Го разгрануваме јазолот C од (4, ['A', 'C'])\n",
      "A е веќе разгранет\n",
      "D со тежина 3, кој е соседен јазол на C, го додаваме во редот за разгранување со нова цена и го означуваме како разгранет\n",
      "\n",
      "Ред за разгранување:\n",
      "(5, ['A', 'B', 'E', 'F']) (5, ['A', 'E']) (6, ['A', 'B', 'E', 'D']) (7, ['A', 'C', 'D']) \n",
      "\n",
      "Го пронајдовме посакуваниот јазол F. Патеката да стигнеме до тука е ['A', 'B', 'E', 'F'] со цена 5\n"
     ]
    },
    {
     "data": {
      "text/plain": [
       "(5, ['A', 'B', 'E', 'F'])"
      ]
     },
     "execution_count": 4,
     "metadata": {},
     "output_type": "execute_result"
    }
   ],
   "source": [
    "g.uniform_cost_search('A', 'F', True)"
   ]
  },
  {
   "cell_type": "code",
   "execution_count": 5,
   "metadata": {},
   "outputs": [
    {
     "data": {
      "image/png": "[encoded data removed]",
      "text/plain": [
       "<Figure size 432x288 with 1 Axes>"
      ]
     },
     "metadata": {},
     "output_type": "display_data"
    }
   ],
   "source": [
    "g.visualize()"
   ]
  },
  {
   "cell_type": "markdown",
   "metadata": {},
   "source": [
    "# Drzavni patista so gikstra"
   ]
  },
  {
   "cell_type": "code",
   "execution_count": 1,
   "metadata": {},
   "outputs": [],
   "source": [
    "from Resources.Scripts.graph import WeightedGraph"
   ]
  },
  {
   "cell_type": "code",
   "execution_count": 2,
   "metadata": {},
   "outputs": [],
   "source": [
    "import csv\n",
    "\n",
    "city = WeightedGraph()\n",
    "with open('Resources/Data/roads/roads_info.csv', mode='r',encoding=\"utf8\") as roads_file:\n",
    "    reader = csv.DictReader(roads_file)\n",
    "    for row in reader:\n",
    "        with open('Resources/Data/roads/'+row[\"Кратенка\"]+'.csv', mode='r',encoding=\"utf8\") as file:\n",
    "            towns = csv.DictReader(file)\n",
    "            for town in towns:\n",
    "                pocetok = (town['ЈАЗОЛ НА ПОЧЕТОКОТ']).strip()\n",
    "                kraj = (town['ЈАЗОЛ НА КРАЈОТ']).strip()\n",
    "                city.add_vertex(pocetok)\n",
    "                city.add_vertex(kraj)\n",
    "                city.add_edge((pocetok, kraj, int(town['ДОЛЖИНА'])))"
   ]
  },
  {
   "cell_type": "code",
   "execution_count": 7,
   "metadata": {},
   "outputs": [
    {
     "name": "stdout",
     "output_type": "stream",
     "text": [
      "Wall time: 0 ns\n"
     ]
    },
    {
     "data": {
      "text/plain": [
       "(237201,\n",
       " ['174 - Миладиновци 1 (автопат)',\n",
       "  '175 - Илинден (автопат)',\n",
       "  '154 - Инджиково (автопат)',\n",
       "  '177 - Ченто 2 (автопат)',\n",
       "  '550 - Клучка Стенковец',\n",
       "  '178 - Сарај 1 (автопат)',\n",
       "  '179 - Д. Грчец (автопат)',\n",
       "  '180 - Групчин (автопат)',\n",
       "  '181 - Желино 1 (автопат)',\n",
       "  '182 - Тетово 1 (автопат)',\n",
       "  '197 - Блатиште (Каменјане) (автопат)',\n",
       "  '198 - Ременица (Неготино Полошко) (автопат)',\n",
       "  '199 - Тумчевиште (автопат)',\n",
       "  '200 - Гостивар 1 (автопат)',\n",
       "  '201 - Гостивар 2 (Млака)',\n",
       "  '202 - Гостивар 3 (Здунје)',\n",
       "  '203 - Ново Село (Церово)',\n",
       "  '204 - Зајас 1 (Д. Строгомиште)',\n",
       "  '205 - Кичево 1 (Осломеј)',\n",
       "  '454 - Кичево 2',\n",
       "  '206 - Кичево 3 (Бигор Доленци)',\n",
       "  '207 - Кичево 4',\n",
       "  '208 - Другово',\n",
       "  '69 - Пространје',\n",
       "  '411 - Железнец',\n",
       "  '410 - Жван',\n",
       "  '409 - Сладуево',\n",
       "  '408 - Граиште (Демир Хисар)',\n",
       "  '407 - Лопатица',\n",
       "  '91 - Стрежево',\n",
       "  '90 - Лера',\n",
       "  '89 - Гавато',\n",
       "  '275 - Макази 2 (Козјак)',\n",
       "  '422 - Асамати',\n",
       "  '423 - Курбиново 1 (Претор)'])"
      ]
     },
     "execution_count": 7,
     "metadata": {},
     "output_type": "execute_result"
    }
   ],
   "source": [
    "%%time\n",
    "city.uniform_cost_search(\"174 - Миладиновци 1 (автопат)\", \"423 - Курбиново 1 (Претор)\")"
   ]
  },
  {
   "cell_type": "markdown",
   "metadata": {},
   "source": [
    "# Drzavni patista so A*"
   ]
  },
  {
   "cell_type": "code",
   "execution_count": 1,
   "metadata": {},
   "outputs": [],
   "source": [
    "import csv\n",
    "from Resources.Scripts.graph import WeightedGraph"
   ]
  },
  {
   "cell_type": "code",
   "execution_count": null,
   "metadata": {},
   "outputs": [],
   "source": []
  },
  {
   "cell_type": "code",
   "execution_count": 2,
   "metadata": {},
   "outputs": [],
   "source": [
    "cords = {}\n",
    "with open('Resources/Data/roads/coordinates.csv', mode='r', encoding=\"utf8\") as roads_file:\n",
    "    reader = csv.DictReader(roads_file)\n",
    "    for row in reader:\n",
    "        cords[row[\"Јазол\"]] = (float(row[\"X\"]), float(row[\"Y\"]))\n",
    "\n",
    "city = WeightedGraph(cords)\n",
    "with open('Resources/Data/roads/roads_info.csv', mode='r',encoding=\"utf8\") as roads_file:\n",
    "    reader = csv.DictReader(roads_file)\n",
    "    for row in reader:\n",
    "        with open('Resources/Data/roads/'+row[\"Кратенка\"]+'.csv', mode='r',encoding=\"utf8\") as file:\n",
    "            towns = csv.DictReader(file)\n",
    "            for town in towns:\n",
    "                pocetok = (town['ЈАЗОЛ НА ПОЧЕТОКОТ']).strip()\n",
    "                kraj = (town['ЈАЗОЛ НА КРАЈОТ']).strip()\n",
    "                city.add_vertex(pocetok)\n",
    "                city.add_vertex(kraj)\n",
    "                city.add_edge((pocetok, kraj, int(town['ДОЛЖИНА'])))"
   ]
  },
  {
   "cell_type": "code",
   "execution_count": 3,
   "metadata": {},
   "outputs": [
    {
     "name": "stdout",
     "output_type": "stream",
     "text": [
      "Wall time: 999 µs\n"
     ]
    },
    {
     "data": {
      "text/plain": [
       "(341668,\n",
       " ['462 - Охрид 1 (Св. Еразмо)',\n",
       "  '492 - Охрид 2 (Бул. Туристичка)',\n",
       "  '384 - Шипокно',\n",
       "  '385 - Трпејца',\n",
       "  '53 - Царина',\n",
       "  '418 - Царев Двор',\n",
       "  '275 - Макази 2 (Козјак)',\n",
       "  '212 - Макази 1 (Казхани)',\n",
       "  '213 - Казхани',\n",
       "  '214 - Превалец 1 (Ротински)',\n",
       "  '215 - Снегово (Билбил камен)',\n",
       "  '216 - Крклино',\n",
       "  '217 - Црна Землја (Тополчани)',\n",
       "  '554 - Ново Лагово 2 (Прилеп)',\n",
       "  '239 - Прилеп 1 (клучка Могила)',\n",
       "  '238 - Беловодица',\n",
       "  '237 - Дреново (Возарци)',\n",
       "  '236 - Росоман',\n",
       "  '235 - Градско 1 (автопат)',\n",
       "  '234 - Градско 2 (Неготино)',\n",
       "  '288 - Неготино 2 (Ладник)',\n",
       "  '298 - Лесковица',\n",
       "  '230 - Ново Село (шопур)',\n",
       "  '259 - Софилари 2 (Завој)',\n",
       "  '229 - Софилари 1 (Ложиште)',\n",
       "  '56 - Софилари 1 (Ложиште)',\n",
       "  '57 - Аргулица',\n",
       "  '58 - Видовиште',\n",
       "  '59 - Зрновци',\n",
       "  '402 - Виница 1 (Градец)',\n",
       "  '403 - Виница 2 (Блатец)',\n",
       "  '404 - Мост на река Пекљанска',\n",
       "  '405 - Митрашинци',\n",
       "  '494 - Смојмирово',\n",
       "  '388 - Пехчево'])"
      ]
     },
     "execution_count": 3,
     "metadata": {},
     "output_type": "execute_result"
    }
   ],
   "source": [
    "%%time\n",
    "city.a_star_search(\"462 - Охрид 1 (Св. Еразмо)\", \"388 - Пехчево\", 4,1000000)"
   ]
  }
 ],
 "metadata": {
  "kernelspec": {
   "display_name": "Python 3",
   "language": "python",
   "name": "python3"
  },
  "language_info": {
   "codemirror_mode": {
    "name": "ipython",
    "version": 3
   },
   "file_extension": ".py",
   "mimetype": "text/x-python",
   "name": "python",
   "nbconvert_exporter": "python",
   "pygments_lexer": "ipython3",
   "version": "3.8.5"
  }
 },
 "nbformat": 4,
 "nbformat_minor": 4
}
