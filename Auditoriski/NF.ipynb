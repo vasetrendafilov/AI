{
 "cells": [
  {
   "cell_type": "code",
   "execution_count": 1,
   "metadata": {},
   "outputs": [],
   "source": [
    "import numpy as np\n",
    "import pandas as pd"
   ]
  },
  {
   "cell_type": "code",
   "execution_count": 2,
   "metadata": {},
   "outputs": [
    {
     "data": {
      "text/html": [
       "<div>\n",
       "<style scoped>\n",
       "    .dataframe tbody tr th:only-of-type {\n",
       "        vertical-align: middle;\n",
       "    }\n",
       "\n",
       "    .dataframe tbody tr th {\n",
       "        vertical-align: top;\n",
       "    }\n",
       "\n",
       "    .dataframe thead th {\n",
       "        text-align: right;\n",
       "    }\n",
       "</style>\n",
       "<table border=\"1\" class=\"dataframe\">\n",
       "  <thead>\n",
       "    <tr style=\"text-align: right;\">\n",
       "      <th></th>\n",
       "      <th>f0</th>\n",
       "      <th>f1</th>\n",
       "      <th>f2</th>\n",
       "      <th>f3</th>\n",
       "      <th>y</th>\n",
       "    </tr>\n",
       "  </thead>\n",
       "  <tbody>\n",
       "    <tr>\n",
       "      <th>0</th>\n",
       "      <td>0</td>\n",
       "      <td>1</td>\n",
       "      <td>0</td>\n",
       "      <td>0</td>\n",
       "      <td>1</td>\n",
       "    </tr>\n",
       "    <tr>\n",
       "      <th>1</th>\n",
       "      <td>1</td>\n",
       "      <td>0</td>\n",
       "      <td>1</td>\n",
       "      <td>0</td>\n",
       "      <td>0</td>\n",
       "    </tr>\n",
       "    <tr>\n",
       "      <th>2</th>\n",
       "      <td>0</td>\n",
       "      <td>0</td>\n",
       "      <td>1</td>\n",
       "      <td>1</td>\n",
       "      <td>1</td>\n",
       "    </tr>\n",
       "    <tr>\n",
       "      <th>3</th>\n",
       "      <td>0</td>\n",
       "      <td>0</td>\n",
       "      <td>1</td>\n",
       "      <td>0</td>\n",
       "      <td>0</td>\n",
       "    </tr>\n",
       "    <tr>\n",
       "      <th>4</th>\n",
       "      <td>0</td>\n",
       "      <td>0</td>\n",
       "      <td>0</td>\n",
       "      <td>1</td>\n",
       "      <td>0</td>\n",
       "    </tr>\n",
       "    <tr>\n",
       "      <th>5</th>\n",
       "      <td>1</td>\n",
       "      <td>0</td>\n",
       "      <td>0</td>\n",
       "      <td>1</td>\n",
       "      <td>1</td>\n",
       "    </tr>\n",
       "    <tr>\n",
       "      <th>6</th>\n",
       "      <td>1</td>\n",
       "      <td>0</td>\n",
       "      <td>0</td>\n",
       "      <td>0</td>\n",
       "      <td>1</td>\n",
       "    </tr>\n",
       "    <tr>\n",
       "      <th>7</th>\n",
       "      <td>0</td>\n",
       "      <td>1</td>\n",
       "      <td>1</td>\n",
       "      <td>1</td>\n",
       "      <td>0</td>\n",
       "    </tr>\n",
       "    <tr>\n",
       "      <th>8</th>\n",
       "      <td>0</td>\n",
       "      <td>1</td>\n",
       "      <td>1</td>\n",
       "      <td>0</td>\n",
       "      <td>0</td>\n",
       "    </tr>\n",
       "    <tr>\n",
       "      <th>9</th>\n",
       "      <td>1</td>\n",
       "      <td>1</td>\n",
       "      <td>1</td>\n",
       "      <td>0</td>\n",
       "      <td>1</td>\n",
       "    </tr>\n",
       "    <tr>\n",
       "      <th>10</th>\n",
       "      <td>1</td>\n",
       "      <td>1</td>\n",
       "      <td>0</td>\n",
       "      <td>1</td>\n",
       "      <td>1</td>\n",
       "    </tr>\n",
       "    <tr>\n",
       "      <th>11</th>\n",
       "      <td>0</td>\n",
       "      <td>0</td>\n",
       "      <td>0</td>\n",
       "      <td>0</td>\n",
       "      <td>1</td>\n",
       "    </tr>\n",
       "  </tbody>\n",
       "</table>\n",
       "</div>"
      ],
      "text/plain": [
       "    f0  f1  f2  f3  y\n",
       "0    0   1   0   0  1\n",
       "1    1   0   1   0  0\n",
       "2    0   0   1   1  1\n",
       "3    0   0   1   0  0\n",
       "4    0   0   0   1  0\n",
       "5    1   0   0   1  1\n",
       "6    1   0   0   0  1\n",
       "7    0   1   1   1  0\n",
       "8    0   1   1   0  0\n",
       "9    1   1   1   0  1\n",
       "10   1   1   0   1  1\n",
       "11   0   0   0   0  1"
      ]
     },
     "execution_count": 2,
     "metadata": {},
     "output_type": "execute_result"
    }
   ],
   "source": [
    "table = np.array([\n",
    "        [0,1,0,0,1],\n",
    "        [1,0,1,0,0],\n",
    "        [0,0,1,1,1],\n",
    "        [0,0,1,0,0],\n",
    "        [0,0,0,1,0],\n",
    "        [1,0,0,1,1],\n",
    "        [1,0,0,0,1],\n",
    "        [0,1,1,1,0],\n",
    "        [0,1,1,0,0],\n",
    "        [1,1,1,0,1],\n",
    "        [1,1,0,1,1],\n",
    "        [0,0,0,0,1]\n",
    "        ])\n",
    "\"\"\"table = np.array([\n",
    "        [0,0,1,1,1,0],\n",
    "        [0,1,0,1,1,1],\n",
    "        [0,1,1,0,1,0],\n",
    "        [0,1,1,1,1,1],\n",
    "        [1,0,0,1,1,0],\n",
    "        [1,1,0,1,1,1],\n",
    "        [1,1,1,0,1,0],\n",
    "        [1,1,1,1,1,1],\n",
    "        [1,0,1,1,0,0],\n",
    "        [1,1,0,1,0,0],\n",
    "        ])\"\"\"\n",
    "df = pd.DataFrame(table, columns=[f'f{i}' for i in range(len(table[0])-1)]+['y'])\n",
    "df"
   ]
  },
  {
   "cell_type": "code",
   "execution_count": 3,
   "metadata": {},
   "outputs": [],
   "source": [
    "def listToString(cols):  \n",
    "    temp = \"\"\n",
    "    if isinstance(cols[0],tuple):\n",
    "        for col in cols:\n",
    "            temp += f\" and f{col[0]} == {col[1]}\"\n",
    "    else:\n",
    "        temp += f\" and f{cols[0]} == {cols[1]}\"\n",
    "    return temp + ')'\n",
    "\n",
    "def bestFirst(df,colums):\n",
    "    return max([(df.query(f'f{str(i)} == {j} and y==1').shape[0]/df.query(f'f{str(i)} == {j} and y == 0').shape[0],i,j) for i,j in colums])[1:]\n",
    "\n",
    "def bestScondary(df,colums,fcol):\n",
    "    heuristics = [(df.query(f'f{str(i)} == {j} and y == 1').shape[0],i,j) for i,j in colums]\n",
    "    best_heuristic = max(heuristics)\n",
    "    best_heuristics =  [heuristic[1:] for heuristic in heuristics if heuristic[0] == best_heuristic[0]]\n",
    "    return min([(df.query(f\" not( f{fcol[0]} == {fcol[1]} and f{i} == {j} ) and y==1\").shape[0],i,j) for i,j in best_heuristics])[1:]"
   ]
  },
  {
   "cell_type": "code",
   "execution_count": 4,
   "metadata": {},
   "outputs": [],
   "source": [
    "def output(*arg):\n",
    "    for r in h:\n",
    "        approved = 0\n",
    "        for el in r:\n",
    "            if isinstance(el[0],tuple):\n",
    "                for second in el:\n",
    "                    f,val = second\n",
    "                    if arg[f] == val:\n",
    "                        approved +=1\n",
    "            else:\n",
    "                f,val = el\n",
    "                if arg[f] == val:\n",
    "                        approved +=1\n",
    "        if approved == len(r) + (len(r[1])-1 if isinstance(r[1][0],tuple) else 0):\n",
    "            return 1\n",
    "    return 0"
   ]
  },
  {
   "cell_type": "code",
   "execution_count": null,
   "metadata": {},
   "outputs": [],
   "source": [
    "h, iterations=[],[]\n",
    "colums = [(i,j) for j in range(2) for i in range(df.shape[1]-1)]#ako j e 0 togas e complement\n",
    "\n",
    "while(not df.query('y==1').empty):\n",
    "    fcol = bestFirst(df,colums)\n",
    "    zeros = df.query(f\"f{fcol[0]} == {fcol[1]} and y == 0\") \n",
    "    scols=[]\n",
    "    for row in zeros.itertuples():\n",
    "        posible = [(j,not col) for j,col in enumerate(row[1:-1]) if j != fcol[0]]\n",
    "        scols.append(bestScondary(df,posible,fcol))\n",
    "    h.append((fcol, tuple(scols)))    \n",
    "    df = df.query(f\" not( f{fcol[0]} == {fcol[1]} \" + listToString(scols))\n",
    "    iterations.append(df)"
   ]
  },
  {
   "cell_type": "code",
   "execution_count": 16,
   "metadata": {},
   "outputs": [
    {
     "data": {
      "text/plain": [
       "1"
      ]
     },
     "execution_count": 16,
     "metadata": {},
     "output_type": "execute_result"
    }
   ],
   "source": [
    "output(0,0,1,1)"
   ]
  },
  {
   "cell_type": "code",
   "execution_count": 17,
   "metadata": {},
   "outputs": [
    {
     "name": "stdout",
     "output_type": "stream",
     "text": [
      "    f0  f1  f2  f3  y\n",
      "0    0   1   0   0  1\n",
      "2    0   0   1   1  1\n",
      "9    1   1   1   0  1\n",
      "11   0   0   0   0  1\n",
      "   f0  f1  f2  f3  y\n",
      "2   0   0   1   1  1\n",
      "9   1   1   1   0  1\n",
      "   f0  f1  f2  f3  y\n",
      "2   0   0   1   1  1\n",
      "Empty DataFrame\n",
      "Columns: [f0, f1, f2, f3, y]\n",
      "Index: []\n"
     ]
    }
   ],
   "source": [
    "for iteration in iterations:\n",
    "    print(iteration.query(\"y==1\"))"
   ]
  },
  {
   "cell_type": "code",
   "execution_count": 18,
   "metadata": {},
   "outputs": [
    {
     "data": {
      "text/plain": [
       "[((2, 0), ((0, True),)),\n",
       " ((2, 0), ((3, False),)),\n",
       " ((0, 1), ((1, True),)),\n",
       " ((3, 1), ((2, True), (1, False)))]"
      ]
     },
     "execution_count": 18,
     "metadata": {},
     "output_type": "execute_result"
    }
   ],
   "source": [
    "h"
   ]
  },
  {
   "cell_type": "code",
   "execution_count": null,
   "metadata": {},
   "outputs": [],
   "source": []
  }
 ],
 "metadata": {
  "kernelspec": {
   "display_name": "Python 3.8 (XPython)",
   "language": "python",
   "name": "xpython"
  },
  "language_info": {
   "file_extension": ".py",
   "mimetype": "text/x-python",
   "name": "python",
   "version": "3.8.6"
  }
 },
 "nbformat": 4,
 "nbformat_minor": 4
}
