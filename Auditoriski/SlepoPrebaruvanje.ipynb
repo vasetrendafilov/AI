{
 "cells": [
  {
   "cell_type": "code",
   "execution_count": 3,
   "metadata": {},
   "outputs": [],
   "source": [
    "from Resources.Scripts.graph import Graph"
   ]
  },
  {
   "cell_type": "code",
   "execution_count": 4,
   "metadata": {},
   "outputs": [
    {
     "name": "stdout",
     "output_type": "stream",
     "text": [
      "Vertices: ['Скопје', 'Белград', 'Загреб', 'Сараево', 'Подгорица', 'Софија']\n",
      " Edges: [('Скопје', 'Загреб'), ('Белград', 'Загреб'), ('Белград', 'Подгорица'), ('Загреб', 'Скопје'), ('Загреб', 'Белград'), ('Загреб', 'Сараево'), ('Загреб', 'П одгорица'), ('Сараево', 'Загреб'), ('Подгорица', 'Загреб'), ('Подгорица', 'Белград')]\n"
     ]
    }
   ],
   "source": [
    "cities = {\"Скопје\": [\"Загреб\"],\n",
    "          \"Белград\": [\"Загреб\", \"Подгорица\"],\n",
    "          \"Загреб\": [\"Скопје\", \"Белград\", \"Сараево\", \"П одгорица\"],\n",
    "          \"Сараево\": [\"Загреб\"],\n",
    "          \"Подгорица\": [\"Загреб\", \"Белград\"],\n",
    "          \"Софија\": []\n",
    "          }\n",
    "v = Graph(cities)\n",
    "print(v)"
   ]
  },
  {
   "cell_type": "code",
   "execution_count": null,
   "metadata": {},
   "outputs": [],
   "source": []
  },
  {
   "cell_type": "code",
   "execution_count": 6,
   "metadata": {},
   "outputs": [],
   "source": [
    "class Graphs():\n",
    "    def __init__(self, graph={}):\n",
    "        self.graph = graph\n",
    "\n",
    "    def vertexes(self):\n",
    "        return list(self.graph.keys())\n",
    "\n",
    "    def edges(self):\n",
    "        temp = []\n",
    "        for vertex in self.graph:\n",
    "            for edge in self.graph[vertex]:\n",
    "                temp.append((vertex,edge))\n",
    "        return temp\n",
    "\n",
    "    def add_vertex(self, vertex):\n",
    "        if vertex not in self.graph:\n",
    "            self.graph[vertex] = []\n",
    "\n",
    "    def add_edge(self, edge, reverse=False):\n",
    "        vertex1, vertex2 = edge\n",
    "        if vertex2 not in self.graph[vertex1]:\n",
    "            self.graph[vertex1].append(vertex2)\n",
    "        if reverse and vertex1 not in self.graph[vertex2]:\n",
    "            self.graph[vertex2].append(vertex1)\n",
    "\n",
    "    def remove_vertex(self, vertex):\n",
    "        if vertex in self.graph:\n",
    "            del self.graph[vertex]\n",
    "            for vert in self.graph:\n",
    "                if vertex in self.graph[vert]:\n",
    "                    self.graph[vert].remove(vertex)\n",
    "\n",
    "    def remove_edge(self, edge, reverse=False):\n",
    "            vertex1, vertex2 = edge\n",
    "            if vertex2 in self.graph[vertex1]:\n",
    "                self.graph[vertex1].remove(vertex2)\n",
    "            if reverse and vertex1 not in self.graph[vertex2]:\n",
    "                self.graph[vertex2].append(vertex1)\n",
    "                    "
   ]
  },
  {
   "cell_type": "code",
   "execution_count": 7,
   "metadata": {},
   "outputs": [],
   "source": [
    "cities = {\"Скопје\": [\"Загреб\"],\n",
    "          \"Белград\": [\"Загреб\", \"Подгорица\"],\n",
    "          \"Загреб\": [\"Скопје\", \"Белград\", \"Сараево\", \"Подгорица\"],\n",
    "          \"Сараево\": [\"Загреб\"],\n",
    "          \"Подгорица\": [\"Загреб\", \"Белград\"],\n",
    "          \"Софија\": []\n",
    "          }\n",
    "x = Graphs(cities)"
   ]
  },
  {
   "cell_type": "code",
   "execution_count": 8,
   "metadata": {},
   "outputs": [
    {
     "data": {
      "text/plain": [
       "{'Скопје': ['Загреб', 'd'],\n",
       " 'Белград': ['Загреб', 'Подгорица'],\n",
       " 'Загреб': ['Скопје', 'Белград', 'Сараево', 'Подгорица'],\n",
       " 'Сараево': ['Загреб'],\n",
       " 'Подгорица': ['Загреб', 'Белград'],\n",
       " 'Софија': [],\n",
       " 'd': ['Скопје']}"
      ]
     },
     "execution_count": 8,
     "metadata": {},
     "output_type": "execute_result"
    }
   ],
   "source": [
    "x.add_vertex(\"d\")\n",
    "x.add_edge((\"d\",\"Скопје\"),True)\n",
    "x.graph"
   ]
  },
  {
   "cell_type": "code",
   "execution_count": 9,
   "metadata": {},
   "outputs": [],
   "source": [
    "x.remove_vertex(\"d\")"
   ]
  },
  {
   "cell_type": "code",
   "execution_count": 10,
   "metadata": {},
   "outputs": [
    {
     "data": {
      "text/plain": [
       "{'Скопје': ['Загреб'],\n",
       " 'Белград': ['Загреб', 'Подгорица'],\n",
       " 'Загреб': ['Скопје', 'Белград', 'Сараево', 'Подгорица'],\n",
       " 'Сараево': ['Загреб'],\n",
       " 'Подгорица': ['Загреб', 'Белград'],\n",
       " 'Софија': []}"
      ]
     },
     "execution_count": 10,
     "metadata": {},
     "output_type": "execute_result"
    }
   ],
   "source": [
    "x.graph"
   ]
  },
  {
   "cell_type": "code",
   "execution_count": null,
   "metadata": {},
   "outputs": [],
   "source": []
  },
  {
   "cell_type": "code",
   "execution_count": 1,
   "metadata": {},
   "outputs": [],
   "source": [
    "\n",
    "from Resources.Scripts.graph import Graph\n",
    "from collections import deque"
   ]
  },
  {
   "cell_type": "code",
   "execution_count": 2,
   "metadata": {},
   "outputs": [],
   "source": [
    "g = Graph()\n",
    "g.add_vertex('S')\n",
    "g.add_vertex('A')\n",
    "g.add_vertex('B')\n",
    "g.add_vertex('C')\n",
    "g.add_vertex('D')\n",
    "g.add_vertex('E')\n",
    "g.add_vertex('F')\n",
    "g.add_vertex('G')\n",
    "g.add_vertex('H')\n",
    "g.add_edge(('S', 'A'))\n",
    "g.add_edge(('S', 'C'))\n",
    "g.add_edge(('S', 'G'))\n",
    "g.add_edge(('A', 'B'))\n",
    "g.add_edge(('C', 'D'))\n",
    "g.add_edge(('C', 'E'))\n",
    "g.add_edge(('C', 'F'))\n",
    "g.add_edge(('G', 'F'))\n",
    "g.add_edge(('G', 'H'))\n",
    "g.add_edge(('E', 'H'))\n"
   ]
  },
  {
   "cell_type": "code",
   "execution_count": 3,
   "metadata": {},
   "outputs": [
    {
     "data": {
      "text/plain": [
       "'H'"
      ]
     },
     "execution_count": 3,
     "metadata": {},
     "output_type": "execute_result"
    }
   ],
   "source": [
    "g.search_traversal(\"bfs\",\"S\",\"H\")"
   ]
  },
  {
   "cell_type": "code",
   "execution_count": 4,
   "metadata": {},
   "outputs": [
    {
     "data": {
      "image/png": "[encoded data removed]",
      "text/plain": [
       "<Figure size 432x288 with 1 Axes>"
      ]
     },
     "metadata": {},
     "output_type": "display_data"
    }
   ],
   "source": [
    "g.visualize()"
   ]
  },
  {
   "cell_type": "code",
   "execution_count": 7,
   "metadata": {},
   "outputs": [
    {
     "data": {
      "text/plain": [
       "[('S', 'A'),\n",
       " ('S', 'C'),\n",
       " ('S', 'G'),\n",
       " ('A', 'S'),\n",
       " ('A', 'B'),\n",
       " ('B', 'A'),\n",
       " ('C', 'S'),\n",
       " ('C', 'D'),\n",
       " ('C', 'E'),\n",
       " ('C', 'F'),\n",
       " ('D', 'C'),\n",
       " ('E', 'C'),\n",
       " ('E', 'H'),\n",
       " ('F', 'C'),\n",
       " ('F', 'G'),\n",
       " ('G', 'S'),\n",
       " ('G', 'F'),\n",
       " ('G', 'H'),\n",
       " ('H', 'G'),\n",
       " ('H', 'E')]"
      ]
     },
     "execution_count": 7,
     "metadata": {},
     "output_type": "execute_result"
    }
   ],
   "source": [
    "g.edges()"
   ]
  },
  {
   "cell_type": "code",
   "execution_count": null,
   "metadata": {},
   "outputs": [],
   "source": []
  }
 ],
 "metadata": {
  "kernelspec": {
   "display_name": "Python 3",
   "language": "python",
   "name": "python3"
  },
  "language_info": {
   "codemirror_mode": {
    "name": "ipython",
    "version": 3
   },
   "file_extension": ".py",
   "mimetype": "text/x-python",
   "name": "python",
   "nbconvert_exporter": "python",
   "pygments_lexer": "ipython3",
   "version": "3.8.5"
  }
 },
 "nbformat": 4,
 "nbformat_minor": 4
}
