{
 "cells": [
  {
   "cell_type": "code",
   "execution_count": 3,
   "metadata": {},
   "outputs": [],
   "source": [
    "from Resources.Scripts.graph import Graph"
   ]
  },
  {
   "cell_type": "code",
   "execution_count": 4,
   "metadata": {},
   "outputs": [
    {
     "name": "stdout",
     "output_type": "stream",
     "text": [
      "Vertices: ['Скопје', 'Белград', 'Загреб', 'Сараево', 'Подгорица', 'Софија']\n",
      " Edges: [('Скопје', 'Загреб'), ('Белград', 'Загреб'), ('Белград', 'Подгорица'), ('Загреб', 'Скопје'), ('Загреб', 'Белград'), ('Загреб', 'Сараево'), ('Загреб', 'П одгорица'), ('Сараево', 'Загреб'), ('Подгорица', 'Загреб'), ('Подгорица', 'Белград')]\n"
     ]
    }
   ],
   "source": [
    "cities = {\"Скопје\": [\"Загреб\"],\n",
    "          \"Белград\": [\"Загреб\", \"Подгорица\"],\n",
    "          \"Загреб\": [\"Скопје\", \"Белград\", \"Сараево\", \"П одгорица\"],\n",
    "          \"Сараево\": [\"Загреб\"],\n",
    "          \"Подгорица\": [\"Загреб\", \"Белград\"],\n",
    "          \"Софија\": []\n",
    "          }\n",
    "v = Graph(cities)\n",
    "print(v)"
   ]
  },
  {
   "cell_type": "code",
   "execution_count": null,
   "metadata": {},
   "outputs": [],
   "source": []
  },
  {
   "cell_type": "code",
   "execution_count": 1,
   "metadata": {},
   "outputs": [],
   "source": [
    "class Graphs():\n",
    "    def __init__(self, graph={}):\n",
    "        self.graph = graph\n",
    "\n",
    "    def vertexes(self):\n",
    "        return list(self.graph.keys())\n",
    "\n",
    "    def edges(self):\n",
    "        temp = []\n",
    "        for vertex in self.graph:\n",
    "            for edge in self.graph[vertex]:\n",
    "                temp.append((vertex,edge))\n",
    "        return temp\n",
    "\n",
    "    def add_vertex(self, vertex):\n",
    "        if vertex not in self.graph:\n",
    "            self.graph[vertex] = []\n",
    "\n",
    "    def add_edge(self, edge, reverse=False):\n",
    "        vertex1, vertex2 = edge\n",
    "        if vertex2 not in self.graph[vertex1]:\n",
    "            self.graph[vertex1].append(vertex2)\n",
    "        if reverse and vertex1 not in self.graph[vertex2]:\n",
    "            self.graph[vertex2].append(vertex1)\n",
    "\n",
    "    def remove_vertex(self, vertex):\n",
    "        if vertex in self.graph:\n",
    "            del self.graph[vertex]\n",
    "            for vert in self.graph:\n",
    "                if vertex in self.graph[vert]:\n",
    "                    self.graph[vert].remove(vertex)\n",
    "\n",
    "    def remove_edge(self, edge, reverse=False):\n",
    "            vertex1, vertex2 = edge\n",
    "            if vertex2 in self.graph[vertex1]:\n",
    "                self.graph[vertex1].remove(vertex2)\n",
    "            if reverse and vertex1 not in self.graph[vertex2]:\n",
    "                self.graph[vertex2].append(vertex1)\n",
    "                    "
   ]
  },
  {
   "cell_type": "code",
   "execution_count": 2,
   "metadata": {},
   "outputs": [],
   "source": [
    "cities = {\"Скопје\": [\"Загреб\"],\n",
    "          \"Белград\": [\"Загреб\", \"Подгорица\"],\n",
    "          \"Загреб\": [\"Скопје\", \"Белград\", \"Сараево\", \"Подгорица\"],\n",
    "          \"Сараево\": [\"Загреб\"],\n",
    "          \"Подгорица\": [\"Загреб\", \"Белград\"],\n",
    "          \"Софија\": []\n",
    "          }\n",
    "x = Graphs(cities)"
   ]
  },
  {
   "cell_type": "code",
   "execution_count": 3,
   "metadata": {},
   "outputs": [
    {
     "data": {
      "text/plain": [
       "{'Скопје': ['Загреб', 'd'],\n",
       " 'Белград': ['Загреб', 'Подгорица'],\n",
       " 'Загреб': ['Скопје', 'Белград', 'Сараево', 'Подгорица'],\n",
       " 'Сараево': ['Загреб'],\n",
       " 'Подгорица': ['Загреб', 'Белград'],\n",
       " 'Софија': [],\n",
       " 'd': ['Скопје']}"
      ]
     },
     "execution_count": 3,
     "metadata": {},
     "output_type": "execute_result"
    }
   ],
   "source": [
    "x.add_vertex(\"d\")\n",
    "x.add_edge((\"d\",\"Скопје\"),True)\n",
    "x.graph"
   ]
  },
  {
   "cell_type": "code",
   "execution_count": 9,
   "metadata": {},
   "outputs": [],
   "source": [
    "deque."
   ]
  },
  {
   "cell_type": "code",
   "execution_count": 10,
   "metadata": {},
   "outputs": [
    {
     "data": {
      "text/plain": [
       "{'Скопје': ['Загреб'],\n",
       " 'Белград': ['Загреб', 'Подгорица'],\n",
       " 'Загреб': ['Скопје', 'Белград', 'Сараево', 'Подгорица'],\n",
       " 'Сараево': ['Загреб'],\n",
       " 'Подгорица': ['Загреб', 'Белград'],\n",
       " 'Софија': []}"
      ]
     },
     "execution_count": 10,
     "metadata": {},
     "output_type": "execute_result"
    }
   ],
   "source": [
    "x.graph"
   ]
  },
  {
   "cell_type": "code",
   "execution_count": null,
   "metadata": {},
   "outputs": [],
   "source": []
  },
  {
   "cell_type": "code",
   "execution_count": 4,
   "metadata": {},
   "outputs": [],
   "source": [
    "\n",
    "from Resources.Scripts.graph import Graph\n",
    "from collections import deque"
   ]
  },
  {
   "cell_type": "code",
   "execution_count": 2,
   "metadata": {},
   "outputs": [],
   "source": [
    "g = Graph()\n",
    "g.add_vertex('S')\n",
    "g.add_vertex('A')\n",
    "g.add_vertex('B')\n",
    "g.add_vertex('C')\n",
    "g.add_vertex('D')\n",
    "g.add_vertex('E')\n",
    "g.add_vertex('F')\n",
    "g.add_vertex('G')\n",
    "g.add_vertex('H')\n",
    "g.add_edge(('S', 'A'))\n",
    "g.add_edge(('S', 'C'))\n",
    "g.add_edge(('S', 'G'))\n",
    "g.add_edge(('A', 'B'))\n",
    "g.add_edge(('C', 'D'))\n",
    "g.add_edge(('C', 'E'))\n",
    "g.add_edge(('C', 'F'))\n",
    "g.add_edge(('G', 'F'))\n",
    "g.add_edge(('G', 'H'))\n",
    "g.add_edge(('E', 'H'))\n"
   ]
  },
  {
   "cell_type": "code",
   "execution_count": 4,
   "metadata": {},
   "outputs": [
    {
     "data": {
      "text/plain": [
       "['S', 'G', 'H']"
      ]
     },
     "execution_count": 4,
     "metadata": {},
     "output_type": "execute_result"
    }
   ],
   "source": [
    "g.search_find_path(\"bfs\",\"S\",\"H\")"
   ]
  },
  {
   "cell_type": "code",
   "execution_count": 5,
   "metadata": {},
   "outputs": [
    {
     "data": {
      "image/png": "[encoded data removed]",
      "text/plain": [
       "<Figure size 432x288 with 1 Axes>"
      ]
     },
     "metadata": {},
     "output_type": "display_data"
    }
   ],
   "source": [
    "g.visualize()"
   ]
  },
  {
   "cell_type": "code",
   "execution_count": 7,
   "metadata": {},
   "outputs": [
    {
     "data": {
      "text/plain": [
       "[('S', 'A'),\n",
       " ('S', 'C'),\n",
       " ('S', 'G'),\n",
       " ('A', 'S'),\n",
       " ('A', 'B'),\n",
       " ('B', 'A'),\n",
       " ('C', 'S'),\n",
       " ('C', 'D'),\n",
       " ('C', 'E'),\n",
       " ('C', 'F'),\n",
       " ('D', 'C'),\n",
       " ('E', 'C'),\n",
       " ('E', 'H'),\n",
       " ('F', 'C'),\n",
       " ('F', 'G'),\n",
       " ('G', 'S'),\n",
       " ('G', 'F'),\n",
       " ('G', 'H'),\n",
       " ('H', 'G'),\n",
       " ('H', 'E')]"
      ]
     },
     "execution_count": 7,
     "metadata": {},
     "output_type": "execute_result"
    }
   ],
   "source": [
    "g.edges()"
   ]
  },
  {
   "cell_type": "code",
   "execution_count": 1,
   "metadata": {},
   "outputs": [],
   "source": [
    "import heapq\n",
    "import networkx as nx \n",
    "import matplotlib.pyplot as plt \n",
    "from collections import deque\n",
    "\n",
    "class Graph(object):\n",
    "\n",
    "    def __init__(self, graph={}):\n",
    "        self.graph = graph\n",
    "        self.result = []\n",
    "\n",
    "    def vertices(self):\n",
    "        return list(self.graph.keys())\n",
    "\n",
    "    def edges(self):\n",
    "        edges = []\n",
    "        for vertex in self.graph:\n",
    "            for neighbour in self.graph[vertex]:\n",
    "                edges.append((vertex, neighbour))\n",
    "        return edges\n",
    "\n",
    "    def add_vertex(self, vertex):\n",
    "        if vertex not in self.graph:\n",
    "            self.graph[vertex] = []\n",
    "\n",
    "    def add_edge(self, edge, reverse=True):\n",
    "        vertex1, vertex2 = edge\n",
    "        self.graph[vertex1].append(vertex2)\n",
    "        if reverse:\n",
    "            self.graph[vertex2].append(vertex1)\n",
    "\n",
    "    def remove_vertex(self, vertex_to_remove):\n",
    "        if vertex_to_remove in self.graph:\n",
    "            del self.graph[vertex_to_remove]\n",
    "            for vertex in self.vertices():\n",
    "                if vertex_to_remove in self.graph[vertex]:\n",
    "                    self.graph[vertex].remove(vertex_to_remove)\n",
    "\n",
    "    def remove_edge(self, edge, reverse=True):\n",
    "        vertex1, vertex2 = edge\n",
    "        if vertex2 in self.graph[vertex1]:\n",
    "            self.graph[vertex1].remove(vertex2)\n",
    "        if reverse and vertex1 not in self.graph[vertex2]:\n",
    "            self.graph[vertex2].append(vertex1)\n",
    "\n",
    "    def search_find_path(self, algo, starting_vertex, goal_vertex, verbose=False):\n",
    "\n",
    "        if starting_vertex == goal_vertex:\n",
    "            if verbose:\n",
    "                print('Почетниот и бараниот јазол се исти')\n",
    "            return []\n",
    "\n",
    "        visited = {starting_vertex}\n",
    "        queue = deque([[starting_vertex]])\n",
    "\n",
    "        while queue:\n",
    "            if verbose:\n",
    "                print('Ред за разгранување:')\n",
    "                for element in queue:\n",
    "                    print(element, end=' ')\n",
    "                print()\n",
    "                print()\n",
    "\n",
    "            vertex_list = queue.popleft()\n",
    "            vertex_to_expand = vertex_list[-1]\n",
    "            if verbose:\n",
    "                print('Го разгрануваме јазолот {}'.format(vertex_to_expand))\n",
    "            for neighbour in self.graph[vertex_to_expand]:\n",
    "                if neighbour in visited:\n",
    "                    if verbose:\n",
    "                        print('{} е веќе посетен'.format(neighbour))\n",
    "                else:\n",
    "                    if verbose:\n",
    "                        print('{}, кој е соседен јазол на {} го немаме посетено до сега, затоа го додаваме во редот '\n",
    "                              'за разгранување и го означуваме како посетен'.format(neighbour, vertex_to_expand))\n",
    "                    if neighbour == goal_vertex:\n",
    "                        if verbose:\n",
    "                            print('Го пронајдовме посакуваниот јазол {}. Патеката да стигнеме до тука е {}'\n",
    "                                  .format(neighbour, vertex_list + [neighbour]))\n",
    "                        self.result = vertex_list + [neighbour]\n",
    "                        return vertex_list + [neighbour]\n",
    "                    visited.add(neighbour)\n",
    "                    if algo == \"bfs\":\n",
    "                        queue.append(vertex_list + [neighbour])\n",
    "                    elif algo == \"dfs\":\n",
    "                        queue.appendleft(vertex_list + [neighbour])\n",
    "            if verbose:\n",
    "                print()\n",
    "\n",
    "    def search_traversal(self, algo, starting_vertex, goal_vertex):\n",
    "        visited = {starting_vertex}\n",
    "        states_queue = deque([starting_vertex])\n",
    "        while states_queue:\n",
    "            state_to_expand = states_queue.popleft()\n",
    "            for next_state in  self.graph[state_to_expand]:\n",
    "                if next_state not in visited:\n",
    "                    if next_state == goal_vertex:\n",
    "                        return next_state\n",
    "                    visited.add(next_state)\n",
    "                    if algo == 'dfs':\n",
    "                        states_queue.appendleft(next_state)\n",
    "                    elif algo == 'bfs':\n",
    "                        states_queue.append(next_state)\n",
    "        return\n",
    "    def visualize(self):\n",
    "        color_map = []\n",
    "        G = nx.Graph()\n",
    "        G.add_nodes_from(self.vertices())\n",
    "        G.add_edges_from(self.edges())\n",
    "        for vertex in self.vertices():\n",
    "            color_map.append('green' if vertex in self.result else 'blue')\n",
    "        nx.draw(G, node_color=color_map, with_labels=True)\n",
    "        plt.show()\n",
    "\n",
    "    def __str__(self):\n",
    "        return f'Vertices: {self.vertices()}\\n Edges: {self.edges()}'\n"
   ]
  },
  {
   "cell_type": "code",
   "execution_count": 17,
   "metadata": {},
   "outputs": [
    {
     "data": {
      "text/plain": [
       "['green', 'blue', 'blue', 'blue', 'blue', 'blue', 'blue', 'green', 'green']"
      ]
     },
     "execution_count": 17,
     "metadata": {},
     "output_type": "execute_result"
    }
   ],
   "source": [
    "color_map = []\n",
    "for vertex in g.vertices():\n",
    "            color_map.append('green' if vertex in g.result else 'blue')\n",
    "color_map"
   ]
  },
  {
   "cell_type": "code",
   "execution_count": null,
   "metadata": {},
   "outputs": [],
   "source": []
  }
 ],
 "metadata": {
  "kernelspec": {
   "display_name": "Python 3",
   "language": "python",
   "name": "python3"
  },
  "language_info": {
   "codemirror_mode": {
    "name": "ipython",
    "version": 3
   },
   "file_extension": ".py",
   "mimetype": "text/x-python",
   "name": "python",
   "nbconvert_exporter": "python",
   "pygments_lexer": "ipython3",
   "version": "3.8.5"
  }
 },
 "nbformat": 4,
 "nbformat_minor": 4
}
