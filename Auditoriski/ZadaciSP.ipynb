{
 "cells": [
  {
   "cell_type": "markdown",
   "metadata": {},
   "source": [
    "# Поставување кралици на шаховска табла\n",
    "Распоредете N кралици на шаховска табла така што кралиците нема да се напаѓаат."
   ]
  },
  {
   "cell_type": "code",
   "execution_count": 1,
   "metadata": {},
   "outputs": [],
   "source": [
    "from collections import deque\n",
    "import os"
   ]
  },
  {
   "cell_type": "code",
   "execution_count": 2,
   "metadata": {},
   "outputs": [],
   "source": [
    "def is_valid(new_state, new_queen_i, new_queen_j):\n",
    "    vertical_check = new_queen_j not in new_state\n",
    "    if not vertical_check:\n",
    "        return False\n",
    "    main_diagonal = new_queen_i - new_queen_j\n",
    "    anti_diagonal = new_queen_i + new_queen_j\n",
    "    other_queens = new_state[:N - new_state.count(None)]\n",
    "    for other_queen_i, other_queen_j in enumerate(other_queens):\n",
    "        if other_queen_i - other_queen_j == main_diagonal:\n",
    "            return False\n",
    "        if other_queen_i + other_queen_j == anti_diagonal:\n",
    "            return False\n",
    "    return True"
   ]
  },
  {
   "cell_type": "code",
   "execution_count": 3,
   "metadata": {},
   "outputs": [],
   "source": [
    "def expand_state(state):\n",
    "    new_states = []\n",
    "    available_places = state.count(None)\n",
    "    if not available_places:\n",
    "        return []\n",
    "    new_queen_i = N - available_places\n",
    "    for new_queen_j in range(N):\n",
    "        if is_valid(state, new_queen_i, new_queen_j):\n",
    "            new_state = list(state)\n",
    "            new_state[new_queen_i] = new_queen_j\n",
    "            new_states.append(tuple(new_state))\n",
    "    return new_states"
   ]
  },
  {
   "cell_type": "code",
   "execution_count": 4,
   "metadata": {},
   "outputs": [],
   "source": [
    "def search(initial_state, alg):\n",
    "    visited = {initial_state}\n",
    "    states_queue = deque([initial_state])\n",
    "    while states_queue:\n",
    "        state_to_expand = states_queue.popleft()\n",
    "        for next_state in expand_state(state_to_expand):\n",
    "            if next_state not in visited:\n",
    "                if next_state.count(None) == 0:\n",
    "                    return next_state\n",
    "                visited.add(next_state)\n",
    "                if alg == 'dfs':\n",
    "                    states_queue.appendleft(next_state)\n",
    "                elif alg == 'bfs':\n",
    "                    states_queue.append(next_state)\n",
    "    return"
   ]
  },
  {
   "cell_type": "code",
   "execution_count": 15,
   "metadata": {},
   "outputs": [],
   "source": [
    "def visualise_queens(queens):\n",
    "    import numpy as np\n",
    "    import skimage\n",
    "    from skimage import io\n",
    "    import matplotlib.pyplot as plt\n",
    "    plt.axis('off')\n",
    "    if not queens:\n",
    "        print('Не постои реше.astype(np.uint8)ние за N =', N)\n",
    "        return\n",
    "    border_color = (0, 0, 0, 1)\n",
    "    queen = skimage.img_as_float(io.imread('Resources/Photos/queen.png'))\n",
    "    table = np.zeros((queen.shape[0] * N, queen.shape[1] * N, queen.shape[2]))\n",
    "    margin = queen.shape[0] // 20\n",
    "    for i, j in enumerate(queens):\n",
    "        table[i*queen.shape[0]:(i+1)*queen.shape[0], j*queen.shape[1]:(j+1)*queen.shape[1]] = queen\n",
    "    for index in range(1, N):\n",
    "        table[index * queen.shape[0] - margin: index * queen.shape[0] + margin] = border_color\n",
    "        table[:, index * queen.shape[1] - margin: index * queen.shape[1] + margin] = border_color\n",
    "    io.imshow(255*table.astype(np.uint8))\n",
    "    return"
   ]
  },
  {
   "cell_type": "code",
   "execution_count": 16,
   "metadata": {},
   "outputs": [
    {
     "data": {
      "text/plain": [
       "(7, 3, 0, 2, 5, 1, 6, 4)"
      ]
     },
     "execution_count": 16,
     "metadata": {},
     "output_type": "execute_result"
    }
   ],
   "source": [
    "N = 8\n",
    "initial_state = (None,) * N\n",
    "queens = search(initial_state, alg='dfs')\n",
    "queens"
   ]
  },
  {
   "cell_type": "code",
   "execution_count": 17,
   "metadata": {},
   "outputs": [
    {
     "data": {
      "image/png": "[encoded data removed]",
      "text/plain": [
       "<Figure size 432x288 with 1 Axes>"
      ]
     },
     "metadata": {
      "needs_background": "light"
     },
     "output_type": "display_data"
    }
   ],
   "source": [
    "visualise_queens(queens)"
   ]
  },
  {
   "cell_type": "markdown",
   "metadata": {},
   "source": [
    "## Користејќи ја шаховската фигура коњ, најдете ја најкратката патека од едно до друго поле на шаховската табла"
   ]
  },
  {
   "cell_type": "code",
   "execution_count": 1,
   "metadata": {},
   "outputs": [],
   "source": [
    "from collections import deque"
   ]
  },
  {
   "cell_type": "code",
   "execution_count": 48,
   "metadata": {},
   "outputs": [],
   "source": [
    "def expand_state(state):\n",
    "    moves = [(1, 2), (2, 1), (2, -1), (1, -2), (-1, -2), (-2, -1), (-2, 1), (-1, 2)]\n",
    "    new_states = []\n",
    "    for move in moves:\n",
    "        new_state = tuple(map(sum, zip(state, move)))\n",
    "        if (0 <= new_state[0] < 8) and (0 <= new_state[1] < 8):\n",
    "            new_states.append(new_state)\n",
    "    return new_states"
   ]
  },
  {
   "cell_type": "code",
   "execution_count": 49,
   "metadata": {},
   "outputs": [],
   "source": [
    "def search_path(initial_state, goal_state):\n",
    "    visited = {initial_state}\n",
    "    states_queue = deque([[initial_state]])\n",
    "    while states_queue:\n",
    "        states_list = states_queue.popleft()\n",
    "        state_to_expand = states_list[-1]\n",
    "        for next_state in expand_state(state_to_expand):\n",
    "            if next_state not in visited:\n",
    "                if next_state == goal_state:\n",
    "                    return states_list + [next_state]\n",
    "                visited.add(next_state)\n",
    "                states_queue.append(states_list + [next_state])\n",
    "    return []"
   ]
  },
  {
   "cell_type": "code",
   "execution_count": 50,
   "metadata": {},
   "outputs": [],
   "source": [
    "def visualise_knights(queens):\n",
    "    import numpy as np\n",
    "    import skimage\n",
    "    from skimage import io\n",
    "\n",
    "    if not queens:\n",
    "        print('Не постои реше.astype(np.uint8)ние за N =', N)\n",
    "        return\n",
    "    border_color = (0, 0, 0, 1)\n",
    "    queen = skimage.img_as_float(io.imread('Resources/Photos/knight.png'))\n",
    "    table = np.zeros((queen.shape[0] * N, queen.shape[1] * N, queen.shape[2]))\n",
    "    margin = queen.shape[0] // 20\n",
    "    for i, j in queens:\n",
    "        table[i*queen.shape[0]:(i+1)*queen.shape[0], j*queen.shape[1]:(j+1)*queen.shape[1]] = queen\n",
    "    for index in range(1, N):\n",
    "        table[index * queen.shape[0] - margin: index * queen.shape[0] + margin] = border_color\n",
    "        table[:, index * queen.shape[1] - margin: index * queen.shape[1] + margin] = border_color\n",
    "    io.imshow(255*table.astype(np.uint8))\n",
    "    return"
   ]
  },
  {
   "cell_type": "code",
   "execution_count": 57,
   "metadata": {},
   "outputs": [
    {
     "data": {
      "text/plain": [
       "[(1, 7), (3, 6), (5, 7), (6, 5), (7, 7)]"
      ]
     },
     "execution_count": 57,
     "metadata": {},
     "output_type": "execute_result"
    }
   ],
   "source": [
    "N = 8\n",
    "initial_state = (1, 7)\n",
    "goal_state = (7, 7)\n",
    "knights = search_path(initial_state, goal_state)\n",
    "knights"
   ]
  },
  {
   "cell_type": "code",
   "execution_count": 58,
   "metadata": {},
   "outputs": [
    {
     "data": {
      "image/png": "[encoded data removed]",
      "text/plain": [
       "<Figure size 432x288 with 1 Axes>"
      ]
     },
     "metadata": {
      "needs_background": "light"
     },
     "output_type": "display_data"
    }
   ],
   "source": [
    "visualise_knights(knights)"
   ]
  },
  {
   "cell_type": "markdown",
   "metadata": {},
   "source": [
    "# River"
   ]
  },
  {
   "cell_type": "code",
   "execution_count": 123,
   "metadata": {},
   "outputs": [],
   "source": [
    "from collections import deque\n",
    "import itertools"
   ]
  },
  {
   "cell_type": "code",
   "execution_count": 168,
   "metadata": {},
   "outputs": [],
   "source": [
    "def possible_trips(available_passengers):\n",
    "    trips = []\n",
    "    for seat in range(seats+1):\n",
    "        for possible_trip in itertools.combinations(available_passengers, seat):\n",
    "            if boat_conditions(possible_trip):\n",
    "                trips.append(possible_trip)\n",
    "    return trips"
   ]
  },
  {
   "cell_type": "code",
   "execution_count": 178,
   "metadata": {},
   "outputs": [],
   "source": [
    "def boat_conditions(trip):\n",
    "    if not any([passenger in sailors for passenger in trip]):\n",
    "        return False\n",
    "    if len(trip) > 1 and weight[trip[0]]+weight[trip[1]] > 100:\n",
    "        return False\n",
    "    return True"
   ]
  },
  {
   "cell_type": "code",
   "execution_count": 179,
   "metadata": {},
   "outputs": [],
   "source": [
    "def bank_conditions(left_bank, right_bank):\n",
    "    # if 'Sin1' in left_bank and len(left_bank) == 1 or 'Sin1' in right_bank and len(right_bank) == 1:\n",
    "    #    return False\n",
    "    # if 'Sin2' in left_bank and len(left_bank) == 1 or 'Sin2' in right_bank and len(right_bank) == 1:\n",
    "    #    return False\n",
    "    return True"
   ]
  },
  {
   "cell_type": "code",
   "execution_count": 180,
   "metadata": {},
   "outputs": [],
   "source": [
    "def expand_state(state):\n",
    "    new_states = []\n",
    "    boat, left_bank, right_bank = unpack_state(state)\n",
    "\n",
    "    if boat == 'left':\n",
    "        trips = possible_trips(left_bank)\n",
    "    else:\n",
    "        trips = possible_trips(right_bank)\n",
    "\n",
    "    for trip in trips:\n",
    "        if boat == 'left':\n",
    "            new_left_bank = left_bank - set(trip)\n",
    "            new_right_bank = right_bank | set(trip)\n",
    "        else:\n",
    "            new_left_bank = left_bank | set(trip)\n",
    "            new_right_bank = right_bank - set(trip)\n",
    "\n",
    "        if bank_conditions(new_left_bank, new_right_bank):\n",
    "            new_states.append(pack_state(boat, new_left_bank))\n",
    "\n",
    "    return new_states"
   ]
  },
  {
   "cell_type": "code",
   "execution_count": 181,
   "metadata": {},
   "outputs": [],
   "source": [
    "def pack_state(boat_side, new_left_bank):\n",
    "    temp = [\"left\" if (boat_side == \"right\") else \"right\"]\n",
    "    for passenger in passengers:\n",
    "        temp.append(\"left\" if (passenger in new_left_bank) else \"right\")\n",
    "    return tuple(temp)"
   ]
  },
  {
   "cell_type": "code",
   "execution_count": 182,
   "metadata": {},
   "outputs": [],
   "source": [
    "def unpack_state(state):\n",
    "    boat = state[0]\n",
    "    left_bank = set([passengers[index] for index, side in enumerate(state[1:]) if side == 'left'])\n",
    "    right_bank = set([passengers[index] for index, side in enumerate(state[1:]) if side == 'right'])\n",
    "    return boat, left_bank, right_bank"
   ]
  },
  {
   "cell_type": "code",
   "execution_count": 183,
   "metadata": {},
   "outputs": [],
   "source": [
    "def search_path(initial_state, goal_state):\n",
    "    \"\"\"\n",
    "    Search function\n",
    "    :param initial_state: initial state for search\n",
    "    :param goal_state: desired state\n",
    "    :return: search result as list of states\n",
    "    \"\"\"\n",
    "    visited = {initial_state}\n",
    "    states_queue = deque([[initial_state]])\n",
    "    while states_queue:\n",
    "        states_list = states_queue.popleft()\n",
    "        state_to_expand = states_list[-1]\n",
    "        for next_state in expand_state(state_to_expand):\n",
    "            if next_state not in visited:\n",
    "                if next_state == goal_state:\n",
    "                    return states_list + [next_state]\n",
    "                visited.add(next_state)\n",
    "                states_queue.append(states_list + [next_state])\n",
    "    return []"
   ]
  },
  {
   "cell_type": "code",
   "execution_count": 184,
   "metadata": {},
   "outputs": [],
   "source": [
    "def separated_print(iterable):\n",
    "    \"\"\"\n",
    "    Desired print function.\n",
    "    :param iterable: list to be printed\n",
    "    :return: None\n",
    "    \"\"\"\n",
    "    for element in iterable:\n",
    "        print(element, end=' ')\n",
    "    if not iterable:\n",
    "        print('Empty', end='')"
   ]
  },
  {
   "cell_type": "code",
   "execution_count": 185,
   "metadata": {},
   "outputs": [],
   "source": [
    "\n",
    "def visualise(path):\n",
    "    \"\"\"\n",
    "    Function to visualise path returned from the search function\n",
    "    :param path: path to be visualised\n",
    "    :return: None\n",
    "    \"\"\"\n",
    "    if not path:\n",
    "        print('Search path did not find a solution')\n",
    "        return\n",
    "    for pair_of_states in zip(path, path[1:]):\n",
    "        boat_old, left_old, right_old = unpack(pair_of_states[0])\n",
    "        boat_new, left_new, right_new = unpack(pair_of_states[1])\n",
    "        delimiter_space = ' ' * 55\n",
    "        separated_print(left_old)\n",
    "        print(delimiter_space, end='')\n",
    "        separated_print(right_old)\n",
    "        print()\n",
    "        if boat_old == 'left':\n",
    "            delimiter = ' ' * 5 + '>' * 15 + ' ' * 5\n",
    "            separated_print(left_new)\n",
    "            print(delimiter, end='')\n",
    "            separated_print(left_old - left_new)\n",
    "            print(delimiter, end='')\n",
    "            separated_print(right_old)\n",
    "            print()\n",
    "        else:\n",
    "            delimiter = ' ' * 5 + '<' * 15 + ' ' * 5\n",
    "            separated_print(left_old)\n",
    "            print(delimiter, end='')\n",
    "            separated_print(right_old - right_new)\n",
    "            print(delimiter, end='')\n",
    "            separated_print(right_new)\n",
    "            print()\n",
    "        separated_print(left_new)\n",
    "        print(delimiter_space, end='')\n",
    "        separated_print(right_new)\n",
    "        print()\n",
    "        print()\n",
    "        print()"
   ]
  },
  {
   "cell_type": "code",
   "execution_count": 186,
   "metadata": {},
   "outputs": [
    {
     "name": "stdout",
     "output_type": "stream",
     "text": [
      "mama torba tato kerka sin                                                        Empty\n",
      "mama torba tato      >>>>>>>>>>>>>>>     sin kerka      >>>>>>>>>>>>>>>     Empty\n",
      "mama torba tato                                                        sin kerka \n",
      "\n",
      "\n",
      "mama torba tato                                                        sin kerka \n",
      "mama torba tato      <<<<<<<<<<<<<<<     sin      <<<<<<<<<<<<<<<     kerka \n",
      "mama sin torba tato                                                        kerka \n",
      "\n",
      "\n",
      "mama sin torba tato                                                        kerka \n",
      "mama sin torba      >>>>>>>>>>>>>>>     tato      >>>>>>>>>>>>>>>     kerka \n",
      "mama sin torba                                                        kerka tato \n",
      "\n",
      "\n",
      "mama sin torba                                                        kerka tato \n",
      "mama sin torba      <<<<<<<<<<<<<<<     kerka      <<<<<<<<<<<<<<<     tato \n",
      "mama sin torba kerka                                                        tato \n",
      "\n",
      "\n",
      "mama sin torba kerka                                                        tato \n",
      "mama torba      >>>>>>>>>>>>>>>     sin kerka      >>>>>>>>>>>>>>>     tato \n",
      "mama torba                                                        kerka sin tato \n",
      "\n",
      "\n",
      "mama torba                                                        kerka sin tato \n",
      "mama torba      <<<<<<<<<<<<<<<     kerka      <<<<<<<<<<<<<<<     sin tato \n",
      "mama torba kerka                                                        sin tato \n",
      "\n",
      "\n",
      "mama torba kerka                                                        sin tato \n",
      "kerka      >>>>>>>>>>>>>>>     mama torba      >>>>>>>>>>>>>>>     sin tato \n",
      "kerka                                                        mama sin torba tato \n",
      "\n",
      "\n",
      "kerka                                                        mama sin torba tato \n",
      "kerka      <<<<<<<<<<<<<<<     sin      <<<<<<<<<<<<<<<     mama torba tato \n",
      "sin kerka                                                        mama torba tato \n",
      "\n",
      "\n",
      "sin kerka                                                        mama torba tato \n",
      "Empty     >>>>>>>>>>>>>>>     sin kerka      >>>>>>>>>>>>>>>     mama torba tato \n",
      "Empty                                                       mama torba tato kerka sin \n",
      "\n",
      "\n"
     ]
    }
   ],
   "source": [
    "weight = {'tato':90,'mama':80,\"sin\":60, 'kerka':40, 'torba':20}\n",
    "passengers = ['tato', 'mama', 'sin', 'kerka', 'torba']\n",
    "sailors = ['tato', 'mama', 'sin', 'kerka']\n",
    "seats = 2\n",
    "initial_state = ('left',) * (len(passengers)+1)\n",
    "goal_state = ('right',) * (len(passengers)+1)\n",
    "path = search_path(initial_state, goal_state)\n",
    "visualise(path)"
   ]
  },
  {
   "cell_type": "code",
   "execution_count": null,
   "metadata": {},
   "outputs": [],
   "source": []
  },
  {
   "cell_type": "code",
   "execution_count": null,
   "metadata": {},
   "outputs": [],
   "source": []
  },
  {
   "cell_type": "code",
   "execution_count": null,
   "metadata": {},
   "outputs": [],
   "source": []
  },
  {
   "cell_type": "code",
   "execution_count": null,
   "metadata": {},
   "outputs": [],
   "source": []
  }
 ],
 "metadata": {
  "kernelspec": {
   "display_name": "Python 3",
   "language": "python",
   "name": "python3"
  },
  "language_info": {
   "codemirror_mode": {
    "name": "ipython",
    "version": 3
   },
   "file_extension": ".py",
   "mimetype": "text/x-python",
   "name": "python",
   "nbconvert_exporter": "python",
   "pygments_lexer": "ipython3",
   "version": "3.8.5"
  },
  "toc-autonumbering": false,
  "toc-showmarkdowntxt": true
 },
 "nbformat": 4,
 "nbformat_minor": 4
}
