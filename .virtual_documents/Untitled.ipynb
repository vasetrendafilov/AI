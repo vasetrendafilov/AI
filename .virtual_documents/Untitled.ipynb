from ai.code_2019.graph import Graph


v = Graph()


v.a
